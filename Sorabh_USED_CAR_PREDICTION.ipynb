{
 "cells": [
  {
   "cell_type": "code",
   "execution_count": 22,
   "metadata": {},
   "outputs": [
    {
     "name": "stdout",
     "output_type": "stream",
     "text": [
      "Collecting lightgbm\n",
      "  Downloading lightgbm-3.3.3-py3-none-win_amd64.whl (1.0 MB)\n",
      "Requirement already satisfied: wheel in c:\\users\\somnath.ojha\\anaconda3\\lib\\site-packages (from lightgbm) (0.37.1)\n"
     ]
    },
    {
     "name": "stderr",
     "output_type": "stream",
     "text": [
      "WARNING: Ignoring invalid distribution -umpy (c:\\users\\somnath.ojha\\appdata\\roaming\\python\\python38\\site-packages)\n",
      "WARNING: Ignoring invalid distribution -atplotlib (c:\\users\\somnath.ojha\\anaconda3\\lib\\site-packages)\n",
      "WARNING: Ignoring invalid distribution -umpy (c:\\users\\somnath.ojha\\appdata\\roaming\\python\\python38\\site-packages)\n",
      "WARNING: Ignoring invalid distribution -atplotlib (c:\\users\\somnath.ojha\\anaconda3\\lib\\site-packages)\n",
      "WARNING: Ignoring invalid distribution -umpy (c:\\users\\somnath.ojha\\appdata\\roaming\\python\\python38\\site-packages)\n",
      "WARNING: Ignoring invalid distribution -atplotlib (c:\\users\\somnath.ojha\\anaconda3\\lib\\site-packages)\n",
      "WARNING: Ignoring invalid distribution -atplotlib (c:\\users\\somnath.ojha\\anaconda3\\lib\\site-packages)\n",
      "WARNING: Ignoring invalid distribution -umpy (c:\\users\\somnath.ojha\\appdata\\roaming\\python\\python38\\site-packages)\n",
      "WARNING: Ignoring invalid distribution -atplotlib (c:\\users\\somnath.ojha\\anaconda3\\lib\\site-packages)\n",
      "WARNING: Ignoring invalid distribution -umpy (c:\\users\\somnath.ojha\\appdata\\roaming\\python\\python38\\site-packages)\n",
      "WARNING: Ignoring invalid distribution -umpy (c:\\users\\somnath.ojha\\appdata\\roaming\\python\\python38\\site-packages)\n",
      "WARNING: You are using pip version 21.3.1; however, version 22.3.1 is available.\n",
      "You should consider upgrading via the 'C:\\Users\\somnath.ojha\\Anaconda3\\python.exe -m pip install --upgrade pip' command.\n"
     ]
    },
    {
     "name": "stdout",
     "output_type": "stream",
     "text": [
      "Requirement already satisfied: scikit-learn!=0.22.0 in c:\\users\\somnath.ojha\\anaconda3\\lib\\site-packages (from lightgbm) (1.1.1)\n",
      "Requirement already satisfied: scipy in c:\\users\\somnath.ojha\\anaconda3\\lib\\site-packages (from lightgbm) (1.7.3)\n",
      "Requirement already satisfied: numpy in c:\\users\\somnath.ojha\\appdata\\roaming\\python\\python38\\site-packages (from lightgbm) (1.21.0)\n",
      "Requirement already satisfied: threadpoolctl>=2.0.0 in c:\\users\\somnath.ojha\\anaconda3\\lib\\site-packages (from scikit-learn!=0.22.0->lightgbm) (3.1.0)\n",
      "Requirement already satisfied: joblib>=1.0.0 in c:\\users\\somnath.ojha\\anaconda3\\lib\\site-packages (from scikit-learn!=0.22.0->lightgbm) (1.1.0)\n",
      "Installing collected packages: lightgbm\n",
      "Successfully installed lightgbm-3.3.3\n"
     ]
    }
   ],
   "source": [
    "!pip install lightgbm"
   ]
  },
  {
   "cell_type": "markdown",
   "metadata": {
    "papermill": {
     "duration": 0.014652,
     "end_time": "2020-10-14T14:29:38.366179",
     "exception": false,
     "start_time": "2020-10-14T14:29:38.351527",
     "status": "completed"
    },
    "tags": []
   },
   "source": [
    "# Getting Started"
   ]
  },
  {
   "cell_type": "code",
   "execution_count": 23,
   "metadata": {
    "_cell_guid": "79c7e3d0-c299-4dcb-8224-4455121ee9b0",
    "_uuid": "d629ff2d2480ee46fbb7e2d37f6b5fab8052498a",
    "execution": {
     "iopub.execute_input": "2020-10-14T14:29:38.404284Z",
     "iopub.status.busy": "2020-10-14T14:29:38.403523Z",
     "iopub.status.idle": "2020-10-14T14:29:39.329939Z",
     "shell.execute_reply": "2020-10-14T14:29:39.329173Z"
    },
    "papermill": {
     "duration": 0.946977,
     "end_time": "2020-10-14T14:29:39.330067",
     "exception": false,
     "start_time": "2020-10-14T14:29:38.383090",
     "status": "completed"
    },
    "tags": []
   },
   "outputs": [],
   "source": [
    "import numpy as np\n",
    "import pandas as pd\n",
    "\n",
    "from sklearn.preprocessing import StandardScaler\n",
    "from sklearn.model_selection import train_test_split\n",
    "\n",
    "from sklearn.linear_model import LinearRegression\n",
    "import lightgbm as lgb\n",
    "\n",
    "from sklearn.metrics import mean_squared_error"
   ]
  },
  {
   "cell_type": "code",
   "execution_count": 3,
   "metadata": {
    "execution": {
     "iopub.execute_input": "2020-10-14T14:29:39.369732Z",
     "iopub.status.busy": "2020-10-14T14:29:39.369091Z",
     "iopub.status.idle": "2020-10-14T14:29:56.389105Z",
     "shell.execute_reply": "2020-10-14T14:29:56.388386Z"
    },
    "papermill": {
     "duration": 17.043862,
     "end_time": "2020-10-14T14:29:56.389234",
     "exception": false,
     "start_time": "2020-10-14T14:29:39.345372",
     "status": "completed"
    },
    "tags": []
   },
   "outputs": [
    {
     "data": {
      "text/html": [
       "<div>\n",
       "<style scoped>\n",
       "    .dataframe tbody tr th:only-of-type {\n",
       "        vertical-align: middle;\n",
       "    }\n",
       "\n",
       "    .dataframe tbody tr th {\n",
       "        vertical-align: top;\n",
       "    }\n",
       "\n",
       "    .dataframe thead th {\n",
       "        text-align: right;\n",
       "    }\n",
       "</style>\n",
       "<table border=\"1\" class=\"dataframe\">\n",
       "  <thead>\n",
       "    <tr style=\"text-align: right;\">\n",
       "      <th></th>\n",
       "      <th>id</th>\n",
       "      <th>price</th>\n",
       "      <th>mark</th>\n",
       "      <th>model</th>\n",
       "      <th>year</th>\n",
       "      <th>mileage</th>\n",
       "      <th>engine_capacity</th>\n",
       "      <th>transmission</th>\n",
       "      <th>drive</th>\n",
       "      <th>hand_drive</th>\n",
       "      <th>fuel</th>\n",
       "    </tr>\n",
       "  </thead>\n",
       "  <tbody>\n",
       "    <tr>\n",
       "      <th>318</th>\n",
       "      <td>322</td>\n",
       "      <td>620</td>\n",
       "      <td>mazda</td>\n",
       "      <td>demio</td>\n",
       "      <td>2010</td>\n",
       "      <td>111132</td>\n",
       "      <td>1300</td>\n",
       "      <td>at</td>\n",
       "      <td>2wd</td>\n",
       "      <td>rhd</td>\n",
       "      <td>gasoline</td>\n",
       "    </tr>\n",
       "    <tr>\n",
       "      <th>156</th>\n",
       "      <td>158</td>\n",
       "      <td>490</td>\n",
       "      <td>toyota</td>\n",
       "      <td>passo</td>\n",
       "      <td>2010</td>\n",
       "      <td>96000</td>\n",
       "      <td>1000</td>\n",
       "      <td>at</td>\n",
       "      <td>2wd</td>\n",
       "      <td>rhd</td>\n",
       "      <td>gasoline</td>\n",
       "    </tr>\n",
       "    <tr>\n",
       "      <th>2274</th>\n",
       "      <td>2292</td>\n",
       "      <td>1390</td>\n",
       "      <td>toyota</td>\n",
       "      <td>avensis</td>\n",
       "      <td>2004</td>\n",
       "      <td>20000</td>\n",
       "      <td>2000</td>\n",
       "      <td>at</td>\n",
       "      <td>2wd</td>\n",
       "      <td>rhd</td>\n",
       "      <td>gasoline</td>\n",
       "    </tr>\n",
       "    <tr>\n",
       "      <th>325</th>\n",
       "      <td>329</td>\n",
       "      <td>625</td>\n",
       "      <td>daihatsu</td>\n",
       "      <td>boon</td>\n",
       "      <td>2005</td>\n",
       "      <td>86154</td>\n",
       "      <td>1300</td>\n",
       "      <td>at</td>\n",
       "      <td>2wd</td>\n",
       "      <td>rhd</td>\n",
       "      <td>gasoline</td>\n",
       "    </tr>\n",
       "    <tr>\n",
       "      <th>1490</th>\n",
       "      <td>1506</td>\n",
       "      <td>1122</td>\n",
       "      <td>toyota</td>\n",
       "      <td>regius wagon</td>\n",
       "      <td>1999</td>\n",
       "      <td>75012</td>\n",
       "      <td>2700</td>\n",
       "      <td>at</td>\n",
       "      <td>2wd</td>\n",
       "      <td>rhd</td>\n",
       "      <td>gasoline</td>\n",
       "    </tr>\n",
       "  </tbody>\n",
       "</table>\n",
       "</div>"
      ],
      "text/plain": [
       "        id  price      mark         model  year  mileage  engine_capacity  \\\n",
       "318    322    620     mazda         demio  2010   111132             1300   \n",
       "156    158    490    toyota         passo  2010    96000             1000   \n",
       "2274  2292   1390    toyota       avensis  2004    20000             2000   \n",
       "325    329    625  daihatsu          boon  2005    86154             1300   \n",
       "1490  1506   1122    toyota  regius wagon  1999    75012             2700   \n",
       "\n",
       "     transmission drive hand_drive      fuel  \n",
       "318            at   2wd        rhd  gasoline  \n",
       "156            at   2wd        rhd  gasoline  \n",
       "2274           at   2wd        rhd  gasoline  \n",
       "325            at   2wd        rhd  gasoline  \n",
       "1490           at   2wd        rhd  gasoline  "
      ]
     },
     "execution_count": 3,
     "metadata": {},
     "output_type": "execute_result"
    }
   ],
   "source": [
    "data = pd.read_excel('used_car_pred.xlsx')\n",
    "data.sample(5)"
   ]
  },
  {
   "cell_type": "code",
   "execution_count": 4,
   "metadata": {
    "execution": {
     "iopub.execute_input": "2020-10-14T14:29:56.998957Z",
     "iopub.status.busy": "2020-10-14T14:29:56.998248Z",
     "iopub.status.idle": "2020-10-14T14:29:57.373945Z",
     "shell.execute_reply": "2020-10-14T14:29:57.373205Z"
    },
    "papermill": {
     "duration": 0.396569,
     "end_time": "2020-10-14T14:29:57.374086",
     "exception": false,
     "start_time": "2020-10-14T14:29:56.977517",
     "status": "completed"
    },
    "tags": []
   },
   "outputs": [
    {
     "name": "stdout",
     "output_type": "stream",
     "text": [
      "<class 'pandas.core.frame.DataFrame'>\n",
      "RangeIndex: 2318 entries, 0 to 2317\n",
      "Data columns (total 11 columns):\n",
      " #   Column           Non-Null Count  Dtype \n",
      "---  ------           --------------  ----- \n",
      " 0   id               2318 non-null   int64 \n",
      " 1   price            2318 non-null   int64 \n",
      " 2   mark             2318 non-null   object\n",
      " 3   model            2318 non-null   object\n",
      " 4   year             2318 non-null   int64 \n",
      " 5   mileage          2318 non-null   int64 \n",
      " 6   engine_capacity  2318 non-null   int64 \n",
      " 7   transmission     2318 non-null   object\n",
      " 8   drive            2318 non-null   object\n",
      " 9   hand_drive       2318 non-null   object\n",
      " 10  fuel             2318 non-null   object\n",
      "dtypes: int64(5), object(6)\n",
      "memory usage: 199.3+ KB\n"
     ]
    }
   ],
   "source": [
    "data.info()"
   ]
  },
  {
   "cell_type": "markdown",
   "metadata": {
    "papermill": {
     "duration": 0.01625,
     "end_time": "2020-10-14T14:29:57.407467",
     "exception": false,
     "start_time": "2020-10-14T14:29:57.391217",
     "status": "completed"
    },
    "tags": []
   },
   "source": [
    "# Preprocessing"
   ]
  },
  {
   "cell_type": "code",
   "execution_count": 5,
   "metadata": {
    "execution": {
     "iopub.execute_input": "2020-10-14T14:29:57.446909Z",
     "iopub.status.busy": "2020-10-14T14:29:57.445802Z",
     "iopub.status.idle": "2020-10-14T14:29:57.801977Z",
     "shell.execute_reply": "2020-10-14T14:29:57.802426Z"
    },
    "papermill": {
     "duration": 0.378474,
     "end_time": "2020-10-14T14:29:57.802572",
     "exception": false,
     "start_time": "2020-10-14T14:29:57.424098",
     "status": "completed"
    },
    "tags": []
   },
   "outputs": [
    {
     "data": {
      "text/plain": [
       "id                 0\n",
       "price              0\n",
       "mark               0\n",
       "model              0\n",
       "year               0\n",
       "mileage            0\n",
       "engine_capacity    0\n",
       "transmission       0\n",
       "drive              0\n",
       "hand_drive         0\n",
       "fuel               0\n",
       "dtype: int64"
      ]
     },
     "execution_count": 5,
     "metadata": {},
     "output_type": "execute_result"
    }
   ],
   "source": [
    "data.isna().sum()"
   ]
  },
  {
   "cell_type": "code",
   "execution_count": 6,
   "metadata": {
    "execution": {
     "iopub.execute_input": "2020-10-14T14:29:58.380396Z",
     "iopub.status.busy": "2020-10-14T14:29:58.378915Z",
     "iopub.status.idle": "2020-10-14T14:29:58.405699Z",
     "shell.execute_reply": "2020-10-14T14:29:58.406197Z"
    },
    "papermill": {
     "duration": 0.051897,
     "end_time": "2020-10-14T14:29:58.406364",
     "exception": false,
     "start_time": "2020-10-14T14:29:58.354467",
     "status": "completed"
    },
    "tags": []
   },
   "outputs": [],
   "source": [
    "unneeded_columns = ['id']\n",
    "\n",
    "data = data.drop(unneeded_columns, axis=1)"
   ]
  },
  {
   "cell_type": "code",
   "execution_count": 7,
   "metadata": {
    "execution": {
     "iopub.execute_input": "2020-10-14T14:29:58.465528Z",
     "iopub.status.busy": "2020-10-14T14:29:58.464665Z",
     "iopub.status.idle": "2020-10-14T14:29:58.469181Z",
     "shell.execute_reply": "2020-10-14T14:29:58.468645Z"
    },
    "papermill": {
     "duration": 0.044289,
     "end_time": "2020-10-14T14:29:58.469301",
     "exception": false,
     "start_time": "2020-10-14T14:29:58.425012",
     "status": "completed"
    },
    "tags": []
   },
   "outputs": [
    {
     "data": {
      "text/html": [
       "<div>\n",
       "<style scoped>\n",
       "    .dataframe tbody tr th:only-of-type {\n",
       "        vertical-align: middle;\n",
       "    }\n",
       "\n",
       "    .dataframe tbody tr th {\n",
       "        vertical-align: top;\n",
       "    }\n",
       "\n",
       "    .dataframe thead th {\n",
       "        text-align: right;\n",
       "    }\n",
       "</style>\n",
       "<table border=\"1\" class=\"dataframe\">\n",
       "  <thead>\n",
       "    <tr style=\"text-align: right;\">\n",
       "      <th></th>\n",
       "      <th>price</th>\n",
       "      <th>mark</th>\n",
       "      <th>model</th>\n",
       "      <th>year</th>\n",
       "      <th>mileage</th>\n",
       "      <th>engine_capacity</th>\n",
       "      <th>transmission</th>\n",
       "      <th>drive</th>\n",
       "      <th>hand_drive</th>\n",
       "      <th>fuel</th>\n",
       "    </tr>\n",
       "  </thead>\n",
       "  <tbody>\n",
       "    <tr>\n",
       "      <th>0</th>\n",
       "      <td>80</td>\n",
       "      <td>nissan</td>\n",
       "      <td>march</td>\n",
       "      <td>2003</td>\n",
       "      <td>80000</td>\n",
       "      <td>1240</td>\n",
       "      <td>at</td>\n",
       "      <td>2wd</td>\n",
       "      <td>rhd</td>\n",
       "      <td>gasoline</td>\n",
       "    </tr>\n",
       "    <tr>\n",
       "      <th>1</th>\n",
       "      <td>110</td>\n",
       "      <td>nissan</td>\n",
       "      <td>march</td>\n",
       "      <td>2010</td>\n",
       "      <td>53000</td>\n",
       "      <td>1200</td>\n",
       "      <td>at</td>\n",
       "      <td>2wd</td>\n",
       "      <td>rhd</td>\n",
       "      <td>gasoline</td>\n",
       "    </tr>\n",
       "    <tr>\n",
       "      <th>2</th>\n",
       "      <td>165</td>\n",
       "      <td>nissan</td>\n",
       "      <td>lafesta</td>\n",
       "      <td>2005</td>\n",
       "      <td>47690</td>\n",
       "      <td>2000</td>\n",
       "      <td>at</td>\n",
       "      <td>2wd</td>\n",
       "      <td>rhd</td>\n",
       "      <td>gasoline</td>\n",
       "    </tr>\n",
       "    <tr>\n",
       "      <th>3</th>\n",
       "      <td>190</td>\n",
       "      <td>toyota</td>\n",
       "      <td>avensis</td>\n",
       "      <td>2008</td>\n",
       "      <td>130661</td>\n",
       "      <td>1990</td>\n",
       "      <td>at</td>\n",
       "      <td>2wd</td>\n",
       "      <td>rhd</td>\n",
       "      <td>gasoline</td>\n",
       "    </tr>\n",
       "    <tr>\n",
       "      <th>4</th>\n",
       "      <td>190</td>\n",
       "      <td>daihatsu</td>\n",
       "      <td>mira</td>\n",
       "      <td>2006</td>\n",
       "      <td>66300</td>\n",
       "      <td>660</td>\n",
       "      <td>at</td>\n",
       "      <td>2wd</td>\n",
       "      <td>rhd</td>\n",
       "      <td>gasoline</td>\n",
       "    </tr>\n",
       "    <tr>\n",
       "      <th>...</th>\n",
       "      <td>...</td>\n",
       "      <td>...</td>\n",
       "      <td>...</td>\n",
       "      <td>...</td>\n",
       "      <td>...</td>\n",
       "      <td>...</td>\n",
       "      <td>...</td>\n",
       "      <td>...</td>\n",
       "      <td>...</td>\n",
       "      <td>...</td>\n",
       "    </tr>\n",
       "    <tr>\n",
       "      <th>2313</th>\n",
       "      <td>1400</td>\n",
       "      <td>toyota</td>\n",
       "      <td>vitz</td>\n",
       "      <td>2009</td>\n",
       "      <td>121000</td>\n",
       "      <td>996</td>\n",
       "      <td>at</td>\n",
       "      <td>2wd</td>\n",
       "      <td>rhd</td>\n",
       "      <td>gasoline</td>\n",
       "    </tr>\n",
       "    <tr>\n",
       "      <th>2314</th>\n",
       "      <td>1400</td>\n",
       "      <td>toyota</td>\n",
       "      <td>estima</td>\n",
       "      <td>2003</td>\n",
       "      <td>101000</td>\n",
       "      <td>3000</td>\n",
       "      <td>at</td>\n",
       "      <td>2wd</td>\n",
       "      <td>rhd</td>\n",
       "      <td>gasoline</td>\n",
       "    </tr>\n",
       "    <tr>\n",
       "      <th>2315</th>\n",
       "      <td>1400</td>\n",
       "      <td>subaru</td>\n",
       "      <td>r2</td>\n",
       "      <td>2005</td>\n",
       "      <td>101000</td>\n",
       "      <td>660</td>\n",
       "      <td>cvt</td>\n",
       "      <td>2wd</td>\n",
       "      <td>rhd</td>\n",
       "      <td>gasoline</td>\n",
       "    </tr>\n",
       "    <tr>\n",
       "      <th>2316</th>\n",
       "      <td>1400</td>\n",
       "      <td>honda</td>\n",
       "      <td>z</td>\n",
       "      <td>2000</td>\n",
       "      <td>170000</td>\n",
       "      <td>660</td>\n",
       "      <td>at</td>\n",
       "      <td>4wd</td>\n",
       "      <td>rhd</td>\n",
       "      <td>gasoline</td>\n",
       "    </tr>\n",
       "    <tr>\n",
       "      <th>2317</th>\n",
       "      <td>1400</td>\n",
       "      <td>toyota</td>\n",
       "      <td>estima t</td>\n",
       "      <td>2005</td>\n",
       "      <td>72320</td>\n",
       "      <td>3000</td>\n",
       "      <td>at</td>\n",
       "      <td>2wd</td>\n",
       "      <td>rhd</td>\n",
       "      <td>gasoline</td>\n",
       "    </tr>\n",
       "  </tbody>\n",
       "</table>\n",
       "<p>2318 rows × 10 columns</p>\n",
       "</div>"
      ],
      "text/plain": [
       "      price      mark     model  year  mileage  engine_capacity transmission  \\\n",
       "0        80    nissan     march  2003    80000             1240           at   \n",
       "1       110    nissan     march  2010    53000             1200           at   \n",
       "2       165    nissan   lafesta  2005    47690             2000           at   \n",
       "3       190    toyota   avensis  2008   130661             1990           at   \n",
       "4       190  daihatsu      mira  2006    66300              660           at   \n",
       "...     ...       ...       ...   ...      ...              ...          ...   \n",
       "2313   1400    toyota      vitz  2009   121000              996           at   \n",
       "2314   1400    toyota    estima  2003   101000             3000           at   \n",
       "2315   1400    subaru        r2  2005   101000              660          cvt   \n",
       "2316   1400     honda         z  2000   170000              660           at   \n",
       "2317   1400    toyota  estima t  2005    72320             3000           at   \n",
       "\n",
       "     drive hand_drive      fuel  \n",
       "0      2wd        rhd  gasoline  \n",
       "1      2wd        rhd  gasoline  \n",
       "2      2wd        rhd  gasoline  \n",
       "3      2wd        rhd  gasoline  \n",
       "4      2wd        rhd  gasoline  \n",
       "...    ...        ...       ...  \n",
       "2313   2wd        rhd  gasoline  \n",
       "2314   2wd        rhd  gasoline  \n",
       "2315   2wd        rhd  gasoline  \n",
       "2316   4wd        rhd  gasoline  \n",
       "2317   2wd        rhd  gasoline  \n",
       "\n",
       "[2318 rows x 10 columns]"
      ]
     },
     "execution_count": 7,
     "metadata": {},
     "output_type": "execute_result"
    }
   ],
   "source": [
    "data"
   ]
  },
  {
   "cell_type": "code",
   "execution_count": 8,
   "metadata": {
    "execution": {
     "iopub.execute_input": "2020-10-14T14:29:58.533112Z",
     "iopub.status.busy": "2020-10-14T14:29:58.532432Z",
     "iopub.status.idle": "2020-10-14T14:29:58.682186Z",
     "shell.execute_reply": "2020-10-14T14:29:58.682619Z"
    },
    "papermill": {
     "duration": 0.194162,
     "end_time": "2020-10-14T14:29:58.682805",
     "exception": false,
     "start_time": "2020-10-14T14:29:58.488643",
     "status": "completed"
    },
    "tags": []
   },
   "outputs": [
    {
     "data": {
      "text/plain": [
       "{'mark': 28,\n",
       " 'model': 258,\n",
       " 'transmission': 3,\n",
       " 'drive': 3,\n",
       " 'hand_drive': 3,\n",
       " 'fuel': 5}"
      ]
     },
     "execution_count": 8,
     "metadata": {},
     "output_type": "execute_result"
    }
   ],
   "source": [
    "{column: len(data[column].unique()) for column in data.columns if data.dtypes[column] == 'object'}"
   ]
  },
  {
   "cell_type": "code",
   "execution_count": 9,
   "metadata": {
    "execution": {
     "iopub.execute_input": "2020-10-14T14:29:58.748738Z",
     "iopub.status.busy": "2020-10-14T14:29:58.737213Z",
     "iopub.status.idle": "2020-10-14T14:29:58.758502Z",
     "shell.execute_reply": "2020-10-14T14:29:58.757971Z"
    },
    "papermill": {
     "duration": 0.055526,
     "end_time": "2020-10-14T14:29:58.758627",
     "exception": false,
     "start_time": "2020-10-14T14:29:58.703101",
     "status": "completed"
    },
    "tags": []
   },
   "outputs": [],
   "source": [
    "data = data.drop('model', axis=1)"
   ]
  },
  {
   "cell_type": "code",
   "execution_count": 14,
   "metadata": {
    "execution": {
     "iopub.execute_input": "2020-10-14T14:29:58.881285Z",
     "iopub.status.busy": "2020-10-14T14:29:58.880598Z",
     "iopub.status.idle": "2020-10-14T14:30:02.389041Z",
     "shell.execute_reply": "2020-10-14T14:30:02.388480Z"
    },
    "papermill": {
     "duration": 3.562425,
     "end_time": "2020-10-14T14:30:02.389165",
     "exception": false,
     "start_time": "2020-10-14T14:29:58.826740",
     "status": "completed"
    },
    "tags": []
   },
   "outputs": [],
   "source": [
    "data = pd.get_dummies(data)"
   ]
  },
  {
   "cell_type": "code",
   "execution_count": 15,
   "metadata": {
    "execution": {
     "iopub.execute_input": "2020-10-14T14:30:02.437683Z",
     "iopub.status.busy": "2020-10-14T14:30:02.437022Z",
     "iopub.status.idle": "2020-10-14T14:30:02.479706Z",
     "shell.execute_reply": "2020-10-14T14:30:02.479100Z"
    },
    "papermill": {
     "duration": 0.070822,
     "end_time": "2020-10-14T14:30:02.479841",
     "exception": false,
     "start_time": "2020-10-14T14:30:02.409019",
     "status": "completed"
    },
    "tags": []
   },
   "outputs": [
    {
     "data": {
      "text/html": [
       "<div>\n",
       "<style scoped>\n",
       "    .dataframe tbody tr th:only-of-type {\n",
       "        vertical-align: middle;\n",
       "    }\n",
       "\n",
       "    .dataframe tbody tr th {\n",
       "        vertical-align: top;\n",
       "    }\n",
       "\n",
       "    .dataframe thead th {\n",
       "        text-align: right;\n",
       "    }\n",
       "</style>\n",
       "<table border=\"1\" class=\"dataframe\">\n",
       "  <thead>\n",
       "    <tr style=\"text-align: right;\">\n",
       "      <th></th>\n",
       "      <th>price</th>\n",
       "      <th>year</th>\n",
       "      <th>mileage</th>\n",
       "      <th>engine_capacity</th>\n",
       "      <th>mark_audi</th>\n",
       "      <th>mark_bmw</th>\n",
       "      <th>mark_chrysler</th>\n",
       "      <th>mark_citroen</th>\n",
       "      <th>mark_daihatsu</th>\n",
       "      <th>mark_ford</th>\n",
       "      <th>...</th>\n",
       "      <th>drive_4wd</th>\n",
       "      <th>drive_awd</th>\n",
       "      <th>hand_drive_center</th>\n",
       "      <th>hand_drive_lhd</th>\n",
       "      <th>hand_drive_rhd</th>\n",
       "      <th>fuel_cng</th>\n",
       "      <th>fuel_diesel</th>\n",
       "      <th>fuel_gasoline</th>\n",
       "      <th>fuel_hybrid</th>\n",
       "      <th>fuel_lpg</th>\n",
       "    </tr>\n",
       "  </thead>\n",
       "  <tbody>\n",
       "    <tr>\n",
       "      <th>0</th>\n",
       "      <td>80</td>\n",
       "      <td>2003</td>\n",
       "      <td>80000</td>\n",
       "      <td>1240</td>\n",
       "      <td>0</td>\n",
       "      <td>0</td>\n",
       "      <td>0</td>\n",
       "      <td>0</td>\n",
       "      <td>0</td>\n",
       "      <td>0</td>\n",
       "      <td>...</td>\n",
       "      <td>0</td>\n",
       "      <td>0</td>\n",
       "      <td>0</td>\n",
       "      <td>0</td>\n",
       "      <td>1</td>\n",
       "      <td>0</td>\n",
       "      <td>0</td>\n",
       "      <td>1</td>\n",
       "      <td>0</td>\n",
       "      <td>0</td>\n",
       "    </tr>\n",
       "    <tr>\n",
       "      <th>1</th>\n",
       "      <td>110</td>\n",
       "      <td>2010</td>\n",
       "      <td>53000</td>\n",
       "      <td>1200</td>\n",
       "      <td>0</td>\n",
       "      <td>0</td>\n",
       "      <td>0</td>\n",
       "      <td>0</td>\n",
       "      <td>0</td>\n",
       "      <td>0</td>\n",
       "      <td>...</td>\n",
       "      <td>0</td>\n",
       "      <td>0</td>\n",
       "      <td>0</td>\n",
       "      <td>0</td>\n",
       "      <td>1</td>\n",
       "      <td>0</td>\n",
       "      <td>0</td>\n",
       "      <td>1</td>\n",
       "      <td>0</td>\n",
       "      <td>0</td>\n",
       "    </tr>\n",
       "    <tr>\n",
       "      <th>2</th>\n",
       "      <td>165</td>\n",
       "      <td>2005</td>\n",
       "      <td>47690</td>\n",
       "      <td>2000</td>\n",
       "      <td>0</td>\n",
       "      <td>0</td>\n",
       "      <td>0</td>\n",
       "      <td>0</td>\n",
       "      <td>0</td>\n",
       "      <td>0</td>\n",
       "      <td>...</td>\n",
       "      <td>0</td>\n",
       "      <td>0</td>\n",
       "      <td>0</td>\n",
       "      <td>0</td>\n",
       "      <td>1</td>\n",
       "      <td>0</td>\n",
       "      <td>0</td>\n",
       "      <td>1</td>\n",
       "      <td>0</td>\n",
       "      <td>0</td>\n",
       "    </tr>\n",
       "    <tr>\n",
       "      <th>3</th>\n",
       "      <td>190</td>\n",
       "      <td>2008</td>\n",
       "      <td>130661</td>\n",
       "      <td>1990</td>\n",
       "      <td>0</td>\n",
       "      <td>0</td>\n",
       "      <td>0</td>\n",
       "      <td>0</td>\n",
       "      <td>0</td>\n",
       "      <td>0</td>\n",
       "      <td>...</td>\n",
       "      <td>0</td>\n",
       "      <td>0</td>\n",
       "      <td>0</td>\n",
       "      <td>0</td>\n",
       "      <td>1</td>\n",
       "      <td>0</td>\n",
       "      <td>0</td>\n",
       "      <td>1</td>\n",
       "      <td>0</td>\n",
       "      <td>0</td>\n",
       "    </tr>\n",
       "    <tr>\n",
       "      <th>4</th>\n",
       "      <td>190</td>\n",
       "      <td>2006</td>\n",
       "      <td>66300</td>\n",
       "      <td>660</td>\n",
       "      <td>0</td>\n",
       "      <td>0</td>\n",
       "      <td>0</td>\n",
       "      <td>0</td>\n",
       "      <td>1</td>\n",
       "      <td>0</td>\n",
       "      <td>...</td>\n",
       "      <td>0</td>\n",
       "      <td>0</td>\n",
       "      <td>0</td>\n",
       "      <td>0</td>\n",
       "      <td>1</td>\n",
       "      <td>0</td>\n",
       "      <td>0</td>\n",
       "      <td>1</td>\n",
       "      <td>0</td>\n",
       "      <td>0</td>\n",
       "    </tr>\n",
       "    <tr>\n",
       "      <th>...</th>\n",
       "      <td>...</td>\n",
       "      <td>...</td>\n",
       "      <td>...</td>\n",
       "      <td>...</td>\n",
       "      <td>...</td>\n",
       "      <td>...</td>\n",
       "      <td>...</td>\n",
       "      <td>...</td>\n",
       "      <td>...</td>\n",
       "      <td>...</td>\n",
       "      <td>...</td>\n",
       "      <td>...</td>\n",
       "      <td>...</td>\n",
       "      <td>...</td>\n",
       "      <td>...</td>\n",
       "      <td>...</td>\n",
       "      <td>...</td>\n",
       "      <td>...</td>\n",
       "      <td>...</td>\n",
       "      <td>...</td>\n",
       "      <td>...</td>\n",
       "    </tr>\n",
       "    <tr>\n",
       "      <th>2313</th>\n",
       "      <td>1400</td>\n",
       "      <td>2009</td>\n",
       "      <td>121000</td>\n",
       "      <td>996</td>\n",
       "      <td>0</td>\n",
       "      <td>0</td>\n",
       "      <td>0</td>\n",
       "      <td>0</td>\n",
       "      <td>0</td>\n",
       "      <td>0</td>\n",
       "      <td>...</td>\n",
       "      <td>0</td>\n",
       "      <td>0</td>\n",
       "      <td>0</td>\n",
       "      <td>0</td>\n",
       "      <td>1</td>\n",
       "      <td>0</td>\n",
       "      <td>0</td>\n",
       "      <td>1</td>\n",
       "      <td>0</td>\n",
       "      <td>0</td>\n",
       "    </tr>\n",
       "    <tr>\n",
       "      <th>2314</th>\n",
       "      <td>1400</td>\n",
       "      <td>2003</td>\n",
       "      <td>101000</td>\n",
       "      <td>3000</td>\n",
       "      <td>0</td>\n",
       "      <td>0</td>\n",
       "      <td>0</td>\n",
       "      <td>0</td>\n",
       "      <td>0</td>\n",
       "      <td>0</td>\n",
       "      <td>...</td>\n",
       "      <td>0</td>\n",
       "      <td>0</td>\n",
       "      <td>0</td>\n",
       "      <td>0</td>\n",
       "      <td>1</td>\n",
       "      <td>0</td>\n",
       "      <td>0</td>\n",
       "      <td>1</td>\n",
       "      <td>0</td>\n",
       "      <td>0</td>\n",
       "    </tr>\n",
       "    <tr>\n",
       "      <th>2315</th>\n",
       "      <td>1400</td>\n",
       "      <td>2005</td>\n",
       "      <td>101000</td>\n",
       "      <td>660</td>\n",
       "      <td>0</td>\n",
       "      <td>0</td>\n",
       "      <td>0</td>\n",
       "      <td>0</td>\n",
       "      <td>0</td>\n",
       "      <td>0</td>\n",
       "      <td>...</td>\n",
       "      <td>0</td>\n",
       "      <td>0</td>\n",
       "      <td>0</td>\n",
       "      <td>0</td>\n",
       "      <td>1</td>\n",
       "      <td>0</td>\n",
       "      <td>0</td>\n",
       "      <td>1</td>\n",
       "      <td>0</td>\n",
       "      <td>0</td>\n",
       "    </tr>\n",
       "    <tr>\n",
       "      <th>2316</th>\n",
       "      <td>1400</td>\n",
       "      <td>2000</td>\n",
       "      <td>170000</td>\n",
       "      <td>660</td>\n",
       "      <td>0</td>\n",
       "      <td>0</td>\n",
       "      <td>0</td>\n",
       "      <td>0</td>\n",
       "      <td>0</td>\n",
       "      <td>0</td>\n",
       "      <td>...</td>\n",
       "      <td>1</td>\n",
       "      <td>0</td>\n",
       "      <td>0</td>\n",
       "      <td>0</td>\n",
       "      <td>1</td>\n",
       "      <td>0</td>\n",
       "      <td>0</td>\n",
       "      <td>1</td>\n",
       "      <td>0</td>\n",
       "      <td>0</td>\n",
       "    </tr>\n",
       "    <tr>\n",
       "      <th>2317</th>\n",
       "      <td>1400</td>\n",
       "      <td>2005</td>\n",
       "      <td>72320</td>\n",
       "      <td>3000</td>\n",
       "      <td>0</td>\n",
       "      <td>0</td>\n",
       "      <td>0</td>\n",
       "      <td>0</td>\n",
       "      <td>0</td>\n",
       "      <td>0</td>\n",
       "      <td>...</td>\n",
       "      <td>0</td>\n",
       "      <td>0</td>\n",
       "      <td>0</td>\n",
       "      <td>0</td>\n",
       "      <td>1</td>\n",
       "      <td>0</td>\n",
       "      <td>0</td>\n",
       "      <td>1</td>\n",
       "      <td>0</td>\n",
       "      <td>0</td>\n",
       "    </tr>\n",
       "  </tbody>\n",
       "</table>\n",
       "<p>2318 rows × 46 columns</p>\n",
       "</div>"
      ],
      "text/plain": [
       "      price  year  mileage  engine_capacity  mark_audi  mark_bmw  \\\n",
       "0        80  2003    80000             1240          0         0   \n",
       "1       110  2010    53000             1200          0         0   \n",
       "2       165  2005    47690             2000          0         0   \n",
       "3       190  2008   130661             1990          0         0   \n",
       "4       190  2006    66300              660          0         0   \n",
       "...     ...   ...      ...              ...        ...       ...   \n",
       "2313   1400  2009   121000              996          0         0   \n",
       "2314   1400  2003   101000             3000          0         0   \n",
       "2315   1400  2005   101000              660          0         0   \n",
       "2316   1400  2000   170000              660          0         0   \n",
       "2317   1400  2005    72320             3000          0         0   \n",
       "\n",
       "      mark_chrysler  mark_citroen  mark_daihatsu  mark_ford  ...  drive_4wd  \\\n",
       "0                 0             0              0          0  ...          0   \n",
       "1                 0             0              0          0  ...          0   \n",
       "2                 0             0              0          0  ...          0   \n",
       "3                 0             0              0          0  ...          0   \n",
       "4                 0             0              1          0  ...          0   \n",
       "...             ...           ...            ...        ...  ...        ...   \n",
       "2313              0             0              0          0  ...          0   \n",
       "2314              0             0              0          0  ...          0   \n",
       "2315              0             0              0          0  ...          0   \n",
       "2316              0             0              0          0  ...          1   \n",
       "2317              0             0              0          0  ...          0   \n",
       "\n",
       "      drive_awd  hand_drive_center  hand_drive_lhd  hand_drive_rhd  fuel_cng  \\\n",
       "0             0                  0               0               1         0   \n",
       "1             0                  0               0               1         0   \n",
       "2             0                  0               0               1         0   \n",
       "3             0                  0               0               1         0   \n",
       "4             0                  0               0               1         0   \n",
       "...         ...                ...             ...             ...       ...   \n",
       "2313          0                  0               0               1         0   \n",
       "2314          0                  0               0               1         0   \n",
       "2315          0                  0               0               1         0   \n",
       "2316          0                  0               0               1         0   \n",
       "2317          0                  0               0               1         0   \n",
       "\n",
       "      fuel_diesel  fuel_gasoline  fuel_hybrid  fuel_lpg  \n",
       "0               0              1            0         0  \n",
       "1               0              1            0         0  \n",
       "2               0              1            0         0  \n",
       "3               0              1            0         0  \n",
       "4               0              1            0         0  \n",
       "...           ...            ...          ...       ...  \n",
       "2313            0              1            0         0  \n",
       "2314            0              1            0         0  \n",
       "2315            0              1            0         0  \n",
       "2316            0              1            0         0  \n",
       "2317            0              1            0         0  \n",
       "\n",
       "[2318 rows x 46 columns]"
      ]
     },
     "execution_count": 15,
     "metadata": {},
     "output_type": "execute_result"
    }
   ],
   "source": [
    "data"
   ]
  },
  {
   "cell_type": "markdown",
   "metadata": {
    "papermill": {
     "duration": 0.021212,
     "end_time": "2020-10-14T14:30:03.422803",
     "exception": false,
     "start_time": "2020-10-14T14:30:03.401591",
     "status": "completed"
    },
    "tags": []
   },
   "source": [
    "# Splitting and Scaling"
   ]
  },
  {
   "cell_type": "code",
   "execution_count": 16,
   "metadata": {
    "execution": {
     "iopub.execute_input": "2020-10-14T14:30:03.473732Z",
     "iopub.status.busy": "2020-10-14T14:30:03.473097Z",
     "iopub.status.idle": "2020-10-14T14:30:03.662717Z",
     "shell.execute_reply": "2020-10-14T14:30:03.662149Z"
    },
    "papermill": {
     "duration": 0.21856,
     "end_time": "2020-10-14T14:30:03.662859",
     "exception": false,
     "start_time": "2020-10-14T14:30:03.444299",
     "status": "completed"
    },
    "tags": []
   },
   "outputs": [],
   "source": [
    "y = data.loc[:, 'price']\n",
    "X = data.drop('price', axis=1)"
   ]
  },
  {
   "cell_type": "code",
   "execution_count": 17,
   "metadata": {
    "execution": {
     "iopub.execute_input": "2020-10-14T14:30:03.714887Z",
     "iopub.status.busy": "2020-10-14T14:30:03.714214Z",
     "iopub.status.idle": "2020-10-14T14:30:09.424960Z",
     "shell.execute_reply": "2020-10-14T14:30:09.425451Z"
    },
    "papermill": {
     "duration": 5.741463,
     "end_time": "2020-10-14T14:30:09.425613",
     "exception": false,
     "start_time": "2020-10-14T14:30:03.684150",
     "status": "completed"
    },
    "tags": []
   },
   "outputs": [],
   "source": [
    "scaler = StandardScaler()\n",
    "\n",
    "X = scaler.fit_transform(X)"
   ]
  },
  {
   "cell_type": "code",
   "execution_count": 18,
   "metadata": {
    "execution": {
     "iopub.execute_input": "2020-10-14T14:30:09.475431Z",
     "iopub.status.busy": "2020-10-14T14:30:09.474669Z",
     "iopub.status.idle": "2020-10-14T14:30:11.844674Z",
     "shell.execute_reply": "2020-10-14T14:30:11.844148Z"
    },
    "papermill": {
     "duration": 2.397249,
     "end_time": "2020-10-14T14:30:11.844833",
     "exception": false,
     "start_time": "2020-10-14T14:30:09.447584",
     "status": "completed"
    },
    "tags": []
   },
   "outputs": [],
   "source": [
    "X_train, X_test, y_train, y_test = train_test_split(X, y, train_size=0.7, random_state=34)"
   ]
  },
  {
   "cell_type": "markdown",
   "metadata": {
    "papermill": {
     "duration": 0.021162,
     "end_time": "2020-10-14T14:30:11.887739",
     "exception": false,
     "start_time": "2020-10-14T14:30:11.866577",
     "status": "completed"
    },
    "tags": []
   },
   "source": [
    "# Training"
   ]
  },
  {
   "cell_type": "code",
   "execution_count": 19,
   "metadata": {
    "execution": {
     "iopub.execute_input": "2020-10-14T14:30:11.936610Z",
     "iopub.status.busy": "2020-10-14T14:30:11.935686Z",
     "iopub.status.idle": "2020-10-14T14:30:20.479666Z",
     "shell.execute_reply": "2020-10-14T14:30:20.479141Z"
    },
    "papermill": {
     "duration": 8.570626,
     "end_time": "2020-10-14T14:30:20.479821",
     "exception": false,
     "start_time": "2020-10-14T14:30:11.909195",
     "status": "completed"
    },
    "tags": []
   },
   "outputs": [],
   "source": [
    "lin_model = LinearRegression()\n",
    "\n",
    "lin_model.fit(X_train, y_train)\n",
    "\n",
    "lin_y_preds = lin_model.predict(X_test)"
   ]
  },
  {
   "cell_type": "code",
   "execution_count": 24,
   "metadata": {
    "execution": {
     "iopub.execute_input": "2020-10-14T14:30:20.531240Z",
     "iopub.status.busy": "2020-10-14T14:30:20.530577Z",
     "iopub.status.idle": "2020-10-14T14:30:47.186511Z",
     "shell.execute_reply": "2020-10-14T14:30:47.187657Z"
    },
    "papermill": {
     "duration": 26.685787,
     "end_time": "2020-10-14T14:30:47.187877",
     "exception": false,
     "start_time": "2020-10-14T14:30:20.502090",
     "status": "completed"
    },
    "tags": []
   },
   "outputs": [],
   "source": [
    "lgb_model = lgb.LGBMRegressor(\n",
    "    boosting_type='gbdt',\n",
    "    num_leaves=31,\n",
    "    n_estimators=100,\n",
    "    reg_lambda=1.0\n",
    ")\n",
    "\n",
    "lgb_model.fit(X_train, y_train)\n",
    "\n",
    "lgb_y_preds = lgb_model.predict(X_test)"
   ]
  },
  {
   "cell_type": "code",
   "execution_count": 25,
   "metadata": {
    "execution": {
     "iopub.execute_input": "2020-10-14T14:30:47.257680Z",
     "iopub.status.busy": "2020-10-14T14:30:47.256808Z",
     "iopub.status.idle": "2020-10-14T14:30:47.259015Z",
     "shell.execute_reply": "2020-10-14T14:30:47.258370Z"
    },
    "papermill": {
     "duration": 0.041395,
     "end_time": "2020-10-14T14:30:47.259145",
     "exception": false,
     "start_time": "2020-10-14T14:30:47.217750",
     "status": "completed"
    },
    "tags": []
   },
   "outputs": [],
   "source": [
    "lin_loss = np.sqrt(mean_squared_error(y_test, lin_y_preds))\n",
    "lgb_loss = np.sqrt(mean_squared_error(y_test, lgb_y_preds))"
   ]
  },
  {
   "cell_type": "code",
   "execution_count": 26,
   "metadata": {
    "execution": {
     "iopub.execute_input": "2020-10-14T14:30:47.327176Z",
     "iopub.status.busy": "2020-10-14T14:30:47.326273Z",
     "iopub.status.idle": "2020-10-14T14:30:47.331207Z",
     "shell.execute_reply": "2020-10-14T14:30:47.327868Z"
    },
    "papermill": {
     "duration": 0.042818,
     "end_time": "2020-10-14T14:30:47.331348",
     "exception": false,
     "start_time": "2020-10-14T14:30:47.288530",
     "status": "completed"
    },
    "tags": []
   },
   "outputs": [
    {
     "name": "stdout",
     "output_type": "stream",
     "text": [
      "Linear Regression RMSE: 69561865684147.63\n",
      "Gradient Boosted RMSE: 245.86541213229475\n"
     ]
    }
   ],
   "source": [
    "print(\"Linear Regression RMSE:\", lin_loss)\n",
    "print(\"Gradient Boosted RMSE:\", lgb_loss)"
   ]
  },
  {
   "cell_type": "code",
   "execution_count": 27,
   "metadata": {
    "execution": {
     "iopub.execute_input": "2020-10-14T14:30:47.391356Z",
     "iopub.status.busy": "2020-10-14T14:30:47.390618Z",
     "iopub.status.idle": "2020-10-14T14:30:47.812899Z",
     "shell.execute_reply": "2020-10-14T14:30:47.813468Z"
    },
    "papermill": {
     "duration": 0.45294,
     "end_time": "2020-10-14T14:30:47.813650",
     "exception": false,
     "start_time": "2020-10-14T14:30:47.360710",
     "status": "completed"
    },
    "tags": []
   },
   "outputs": [
    {
     "name": "stdout",
     "output_type": "stream",
     "text": [
      "Linear Regression R^2 Score: -6.413742665349091e+22\n",
      "Gradient Boosted R^2 Score: 0.19875752700334026\n"
     ]
    }
   ],
   "source": [
    "print(\"Linear Regression R^2 Score:\", lin_model.score(X_test, y_test))\n",
    "print(\"Gradient Boosted R^2 Score:\", lgb_model.score(X_test, y_test))"
   ]
  }
 ],
 "metadata": {
  "kernelspec": {
   "display_name": "Python 3 (ipykernel)",
   "language": "python",
   "name": "python3"
  },
  "language_info": {
   "codemirror_mode": {
    "name": "ipython",
    "version": 3
   },
   "file_extension": ".py",
   "mimetype": "text/x-python",
   "name": "python",
   "nbconvert_exporter": "python",
   "pygments_lexer": "ipython3",
   "version": "3.8.13"
  },
  "papermill": {
   "duration": 73.732113,
   "end_time": "2020-10-14T14:30:48.113062",
   "environment_variables": {},
   "exception": null,
   "input_path": "__notebook__.ipynb",
   "output_path": "__notebook__.ipynb",
   "parameters": {},
   "start_time": "2020-10-14T14:29:34.380949",
   "version": "2.1.0"
  }
 },
 "nbformat": 4,
 "nbformat_minor": 4
}
